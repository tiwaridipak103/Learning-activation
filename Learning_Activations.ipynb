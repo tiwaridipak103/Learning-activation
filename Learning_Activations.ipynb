{
  "nbformat": 4,
  "nbformat_minor": 0,
  "metadata": {
    "colab": {
      "name": "Learning_Activations.ipynb",
      "provenance": [],
      "collapsed_sections": []
    },
    "kernelspec": {
      "name": "python3",
      "display_name": "Python 3"
    },
    "language_info": {
      "name": "python"
    }
  },
  "cells": [
    {
      "cell_type": "code",
      "metadata": {
        "id": "9WKhyb9V-y5-"
      },
      "source": [
        "import numpy as np\n",
        "from keras.datasets import mnist \n",
        "import random"
      ],
      "execution_count": 2,
      "outputs": []
    },
    {
      "cell_type": "markdown",
      "metadata": {
        "id": "O9UeJ75AwSze"
      },
      "source": [
        "##EXPERIMENT ON MNIST DATASET"
      ]
    },
    {
      "cell_type": "code",
      "metadata": {
        "colab": {
          "base_uri": "https://localhost:8080/"
        },
        "id": "3IoHSg0x-_PK",
        "outputId": "5115da05-03f2-4490-d88e-f96e926e5bcd"
      },
      "source": [
        "# the data, shuffled and split between train and test sets \n",
        "(X_train, y_train), (X_test, y_test) = mnist.load_data()\n",
        "\n",
        "print(\"Number of training examples :\", X_train.shape[0], \"and each image is of shape (%d, %d)\"%(X_train.shape[1], X_train.shape[2]))\n",
        "print(\"Number of training examples :\", X_test.shape[0], \"and each image is of shape (%d, %d)\"%(X_test.shape[1], X_test.shape[2]))"
      ],
      "execution_count": 3,
      "outputs": [
        {
          "output_type": "stream",
          "text": [
            "Downloading data from https://storage.googleapis.com/tensorflow/tf-keras-datasets/mnist.npz\n",
            "11493376/11490434 [==============================] - 0s 0us/step\n",
            "11501568/11490434 [==============================] - 0s 0us/step\n",
            "Number of training examples : 60000 and each image is of shape (28, 28)\n",
            "Number of training examples : 10000 and each image is of shape (28, 28)\n"
          ],
          "name": "stdout"
        }
      ]
    },
    {
      "cell_type": "code",
      "metadata": {
        "colab": {
          "base_uri": "https://localhost:8080/"
        },
        "id": "QDTFwgvy_EOD",
        "outputId": "753262d2-f753-4bc8-bbd6-2dbdeaa67e45"
      },
      "source": [
        "# if you observe the input shape its 2 dimensional vector\n",
        "# for each image we have a (28*28) vector\n",
        "# we will convert the (28*28) vector into single dimensional vector of 1 * 784 \n",
        "\n",
        "X_train = X_train.reshape(X_train.shape[0], X_train.shape[1]*X_train.shape[2]) \n",
        "X_test = X_test.reshape(X_test.shape[0], X_test.shape[1]*X_test.shape[2])\n",
        "\n",
        "# after converting the input images from 3d to 2d vectors\n",
        "\n",
        "print(\"Number of training examples :\", X_train.shape[0], \"and each image is of shape (%d)\"%(X_train.shape[1]))\n",
        "print(\"Number of training examples :\", X_test.shape[0], \"and each image is of shape (%d)\"%(X_test.shape[1]))"
      ],
      "execution_count": 4,
      "outputs": [
        {
          "output_type": "stream",
          "text": [
            "Number of training examples : 60000 and each image is of shape (784)\n",
            "Number of training examples : 10000 and each image is of shape (784)\n"
          ],
          "name": "stdout"
        }
      ]
    },
    {
      "cell_type": "code",
      "metadata": {
        "id": "6aMjQqOT_KjQ"
      },
      "source": [
        "X_train = X_train/255\n",
        "X_test = X_test/255\n"
      ],
      "execution_count": 5,
      "outputs": []
    },
    {
      "cell_type": "code",
      "metadata": {
        "colab": {
          "base_uri": "https://localhost:8080/"
        },
        "id": "XH2gSZZW_mdB",
        "outputId": "db23b097-b9a4-473c-d1d0-0901cd7c893c"
      },
      "source": [
        "from keras.utils import np_utils\n",
        "# here we are having a class number for each image\n",
        "print(\"Class label of first image :\", y_train[0])\n",
        "\n",
        "\n",
        "Y_train = np_utils.to_categorical(y_train, 10) \n",
        "Y_test = np_utils.to_categorical(y_test, 10)"
      ],
      "execution_count": 6,
      "outputs": [
        {
          "output_type": "stream",
          "text": [
            "Class label of first image : 5\n"
          ],
          "name": "stdout"
        }
      ]
    },
    {
      "cell_type": "code",
      "metadata": {
        "id": "YzxoqfFv4Ls7"
      },
      "source": [
        "#function to normalize the output frm hidden layer\n",
        "def normalize(array):\n",
        "  minimun = array.max()\n",
        "  maximum = array.min()\n",
        "  array = (array - minimun) / (maximum - minimun)\n",
        "  return array\n",
        "\n",
        "#function to avoid exploding gradient\n",
        "def gradient_clipping(weight,threshold):\n",
        "  weight_flatten = weight.flatten()\n",
        "  sums =   sum([i ** 2 for i in weight_flatten])\n",
        "  return (weight/ sums) * threshold \n",
        "\n",
        "#function to convert softmax output into one hot encoding\n",
        "def label(z):\n",
        "  a = np.argmax(z)\n",
        "  b = np.zeros(10)\n",
        "  b[a] = 1\n",
        "  return b\n",
        "\n",
        "#function to calculate accuracy\n",
        "def accuracy(z , cross):\n",
        "  pred_index = np.argmax(z)\n",
        "  true_index = np.argmax(cross)\n",
        "  if pred_index == true_index:\n",
        "    return 1\n",
        "  else:\n",
        "    return 0  \n",
        "\n",
        "\n",
        "#function to generate confusion matrix\n",
        "def confusion_matrix(true_y,pred_y):\n",
        "  classes = sorted(list(set(true_y)))\n",
        "  size = len(list(set(true_y)))\n",
        "  c = np.zeros([size, size],dtype=int)\n",
        "  for i in range(size):\n",
        "    for j in range(size):\n",
        "      for k in range(len(true_y)):\n",
        "        if true_y[k] == classes[i] and pred_y[k]  == classes[j]:\n",
        "          c[i][j] += 1\n",
        "\n",
        "  return c \n",
        "  \n",
        "#funcrion to calculate f1_score\n",
        "def fl_score(c):\n",
        "  e = 0.001 #just to make sure that denominator is not zero\n",
        "  f1 = []\n",
        "  for i in range(10):\n",
        "    a = sum(c[i])\n",
        "    b = sum(c[:, i])\n",
        "    d = c[i][i]\n",
        "    presion = d/(a + e)\n",
        "    recall = d/(b +e)\n",
        "\n",
        "    f1_score_each_class = 2*((presion*recall)/((presion+recall) + e))\n",
        "    f1.append(f1_score_each_class)\n",
        "\n",
        "    return np.mean(f1)      "
      ],
      "execution_count": null,
      "outputs": []
    },
    {
      "cell_type": "code",
      "metadata": {
        "id": "DH6v5YJ2yh1E"
      },
      "source": [
        "#total number of epoch to run\n",
        "epoch = 20\n",
        "\n",
        "# initial parameter for 1st layer activation\n",
        "k1 , k2 = 0.2 , 0.4 \n",
        "\n",
        "# initial parameter for 2nd layer activation\n",
        "k3 , k4 = 0.5 , 0.7\n",
        "\n",
        "#learning rate for weight update and activation parameter update\n",
        "alpha , beta = 0.000001 , 0.000001\n",
        "\n",
        "# weights and biases initilization for hidden layers\n",
        "weight1 = np.random.normal(0, 1, (784, 392))\n",
        "weight2 = np.random.normal(0, 1, (392, 196))\n",
        "weight3 = np.random.normal(0, 1, (196, 10))\n",
        "baise1 = np.random.normal(0, 1, (392))\n",
        "baise2 = np.random.normal(0, 1, (196))\n",
        "baise3 = np.random.normal(0, 1, (10))\n",
        "\n",
        "#collecting losses and accuracy for train and test data at each epochs\n",
        "Train_losses , Train_accuracy = list() , list()\n",
        "Test_losses , Test_accuracy = list() , list()\n",
        "k1_new , k2_new , k3_new , k4_new = list() , list() , list() , list()\n",
        "test_f1_score = []\n",
        "\n",
        "for i in range(epoch):\n",
        "\n",
        "  #suffling train data \n",
        "  suffle = np.array([random.randrange(1, 50000, 100) for i in range(1000)])\n",
        "\n",
        "  data_loss = []\n",
        "  data_accuracy = []\n",
        "\n",
        "  #for j in suffle:\n",
        "  for j in suffle:  \n",
        "    \n",
        "    #training on train data\n",
        "    input  =X_train[j]\n",
        "\n",
        "    #first hidden Layer\n",
        "    result1 = np.dot(input.T,weight1)\n",
        "    result1 = result1 + baise1\n",
        "    result1 = result1.T\n",
        "    result1_active  = k1 + k2 * result1\n",
        "    result1_active = normalize(result1_active)\n",
        "\n",
        "    #second hidden Layer\n",
        "    result2 = np.dot(result1_active.T,weight2)\n",
        "    result2 = result2 + baise2\n",
        "    result2 = result2.T\n",
        "    result2_active = k1 + k2 * result2\n",
        "    result2_active = normalize(result2_active)\n",
        "\n",
        "    #third dense  Layer softmax\n",
        "    result3 = np.dot(result2_active.T,weight3)\n",
        "    result3 = result3 + baise3\n",
        "    result3_active = result3.T\n",
        "    result3_active = normalize(result3_active)\n",
        "\n",
        "    #applying Softmax\n",
        "    result3_active = np.array(result3_active, dtype=np.float128)\n",
        "    result3_active = np.exp(result3_active)\n",
        "    row_sums = result3_active.sum(axis=0)\n",
        "    z = result3_active / row_sums\n",
        "\n",
        "    #calculating losses\n",
        "    cross = Y_train[j]\n",
        "    loss = -cross * np.log10(z)\n",
        "\n",
        "    #calculating total losses for each data point\n",
        "    tot_loss  = loss.sum(axis=0)\n",
        "    data_loss.append(tot_loss)\n",
        "\n",
        "    ##accuracy\n",
        "    res = accuracy(z , cross)\n",
        "    data_accuracy.append(res)\n",
        "\n",
        "\n",
        "    #--------------------Backpropogation-------------------------- \n",
        "    #gradient from softmax\n",
        "    dy =  -(1- z) * cross\n",
        "\n",
        "    #updating 3rd weight\n",
        "    t =alpha *  result2_active ## alpha = 0.2\n",
        "    t  = np.dot(np.array([t]).T,np.array([dy.T]))\n",
        "    weight3 = weight3 - t\n",
        "    weight3 = gradient_clipping(weight3,2)\n",
        "\n",
        "    #updating 3rd baise\n",
        "    baise3 = baise3 - alpha * dy\n",
        "\n",
        "    #updating 2nd activation\n",
        "    e  = np.dot(np.array([dy.T]),weight3.T)\n",
        "    f = e.sum(axis=1)\n",
        "    k3 = k3 - beta * f # alpha = 0.5\n",
        "\n",
        "    e  = np.dot(np.array([dy.T]),weight3.T)\n",
        "    f = result2 * e\n",
        "    f = f.sum(axis=1)\n",
        "    k4 = k4 - beta * f # alpha = 0.5\n",
        "\n",
        "    #updating 2nd weight\n",
        "    b  = np.dot(weight3,np.array([dy]).T)\n",
        "    c = b.T\n",
        "    t = np.dot(np.array([result1_active]).T,c)*k4\n",
        "    weight2 = weight2 - alpha * t\n",
        "    weight2 = gradient_clipping(weight2,2)\n",
        "\n",
        "    #updating 2nd baise\n",
        "    baise2 = baise2 - alpha * c * k4\n",
        "    baise2 = baise2.flatten()\n",
        "\n",
        "    #updating 1st activation\n",
        "    e = np.dot(weight2,weight3)\n",
        "    f = np.dot(e,dy)\n",
        "    g = k4 * result1*f\n",
        "    h = np.sum(g)\n",
        "    k2 = k2 - beta* h\n",
        "\n",
        "    g = k4 *f\n",
        "    h = np.sum(g)\n",
        "    k1  = k1 - beta* h\n",
        "    \n",
        "    #updating 1st weight\n",
        "    e = np.dot(weight2,weight3)\n",
        "    f = np.dot(e,dy)\n",
        "    g = k4 * k2*f\n",
        "    h = np.dot(np.array([input]).T,np.array([g]))\n",
        "    weight1 = weight1 - alpha * h\n",
        "    weight1 = gradient_clipping(weight1,2)\n",
        "\n",
        "    #updating 1st baise\n",
        "    baise1 = baise1 - alpha * f * k4 * k2\n",
        "\n",
        "\n",
        "  if i % 5 == 0:\n",
        "    alpha = alpha/2\n",
        "    beta = beta/2\n",
        "\n",
        "  #calculating mean loss at each epoch\n",
        "  los = sum(data_loss)/1000\n",
        "  Train_losses.append(los)\n",
        "\n",
        "  #calculating mean accuracy at each epoch\n",
        "  los = sum(data_accuracy)/1000\n",
        "  Train_accuracy.append(los)\n",
        "\n",
        "  #appending updated activation parameter\n",
        "  k1_new.append(k1)\n",
        "  k2_new.append(k2)\n",
        "  k3_new.append(k3)\n",
        "  k4_new.append(k4)\n",
        "\n",
        "#----------------------------------TESTING ON TEST DATAPOINTS --------------------------------\n",
        "  pred = []\n",
        "  data_loss_test = []\n",
        "  data_accuracy_test = []\n",
        "  for j in range(1000):  \n",
        "    \n",
        "    #training on train data\n",
        "    input  =X_test[j]\n",
        "\n",
        "    #first hidden Layer\n",
        "    result1 = np.dot(input.T,weight1)\n",
        "    result1 = result1 + baise1\n",
        "    result1 = result1.T\n",
        "    result1_active  = k1 + k2 * result1\n",
        "    result1_active = normalize(result1_active)\n",
        "\n",
        "    #second hidden Layer\n",
        "    result2 = np.dot(result1_active.T,weight2)\n",
        "    result2 = result2 + baise2\n",
        "    result2 = result2.T\n",
        "    result2_active = k1 + k2 * result2\n",
        "    result2_active = normalize(result2_active)\n",
        "\n",
        "    #third dense  Layer softmax\n",
        "    result3 = np.dot(result2_active.T,weight3)\n",
        "    result3 = result3 + baise3\n",
        "    result3_active = result3.T\n",
        "    result3_active = normalize(result3_active)\n",
        "\n",
        "    #applying Softmax\n",
        "    result3_active = np.array(result3_active, dtype=np.float128)\n",
        "    result3_active = np.exp(result3_active)\n",
        "    row_sums = result3_active.sum(axis=0)\n",
        "    z = result3_active / row_sums\n",
        "\n",
        "    p = label(z)\n",
        "    pred.append(p)\n",
        "\n",
        "    #calculating losses\n",
        "    cross = Y_test[j]\n",
        "    loss = -cross * np.log10(z)\n",
        "\n",
        "    #calculating total losses for each data point\n",
        "    tot_loss  = loss.sum(axis=0)\n",
        "    data_loss_test.append(tot_loss)\n",
        "\n",
        "    ##accuracy\n",
        "    res = accuracy(z , cross)\n",
        "    data_accuracy_test.append(res)\n",
        "\n",
        "\n",
        "  #calculating mean loss at each epoch\n",
        "  los = sum(data_loss_test)/1000\n",
        "  Test_losses.append(los)\n",
        "\n",
        "  #calculating mean accuracy at each epoch\n",
        "  los = sum(data_accuracy_test)/1000\n",
        "  Test_accuracy.append(los)  \n",
        "\n",
        "  #calculating f1_score at each epoch\n",
        "\n",
        "  real = []\n",
        "  for i in range(1000):\n",
        "    real.append(Y_test[i])\n",
        "\n",
        "\n",
        "  a , b = list() , list()\n",
        "  for i in range(1000):\n",
        "    pc = np.argmax(pred[i])\n",
        "    t = np.argmax(real[i])\n",
        "    a.append(pc)\n",
        "    b.append(t)\n",
        "\n",
        "  c = confusion_matrix(b,a)  \n",
        "\n",
        "  test_f1 = fl_score(c)\n",
        "  test_f1_score.append(test_f1)  "
      ],
      "execution_count": null,
      "outputs": []
    },
    {
      "cell_type": "markdown",
      "metadata": {
        "id": "qJgCJBWIysUT"
      },
      "source": [
        "#Plot of Epoch Number Vs Train loss and Test loss"
      ]
    },
    {
      "cell_type": "code",
      "metadata": {
        "colab": {
          "base_uri": "https://localhost:8080/",
          "height": 351
        },
        "id": "OCiKndavN_pd",
        "outputId": "c3f3e36d-b28e-4c2e-8bc2-f7893a37d7d3"
      },
      "source": [
        "epoch = np.arange(20)\n",
        "plt.figure( figsize=(6,5))\n",
        "plt.grid()\n",
        "plt.plot(epoch,Train_losses,color='blue')\n",
        "plt.plot(epoch,Test_losses,color='red')\n",
        "plt.xlabel(\"Epochs\")\n",
        "plt.ylabel(\"Loss\")\n",
        "plt.title('Plot of Epoch Number Vs Train loss and Test loss',fontsize = 14)\n",
        "plt.legend(['Train loss','Test loss'])\n",
        "plt.show()"
      ],
      "execution_count": null,
      "outputs": [
        {
          "output_type": "display_data",
          "data": {
            "image/png": "[encoded data removed]",
            "text/plain": [
              "<Figure size 432x360 with 1 Axes>"
            ]
          },
          "metadata": {
            "tags": [],
            "needs_background": "light"
          }
        }
      ]
    },
    {
      "cell_type": "markdown",
      "metadata": {
        "id": "vKPCo1fuy1Js"
      },
      "source": [
        "#Plot of Epoch Number Vs Train_accuracy and Test_accuracy"
      ]
    },
    {
      "cell_type": "code",
      "metadata": {
        "colab": {
          "base_uri": "https://localhost:8080/",
          "height": 351
        },
        "id": "pix1k8pJO9vx",
        "outputId": "620da464-3ddf-40ea-effe-31c66105dea2"
      },
      "source": [
        "epoch = np.arange(20)\n",
        "plt.figure( figsize=(6,5))\n",
        "plt.grid()\n",
        "plt.plot(epoch,Train_accuracy,color='blue')\n",
        "plt.plot(epoch,Test_accuracy,color='red')\n",
        "plt.xlabel(\"Epochs\")\n",
        "plt.ylabel(\"Loss\")\n",
        "plt.title('Plot of Epoch Number Vs Train_accuracy and Test_accuracy',fontsize = 14)\n",
        "plt.legend(['Train_accuracy','Test_accuracy'])\n",
        "plt.show()"
      ],
      "execution_count": null,
      "outputs": [
        {
          "output_type": "display_data",
          "data": {
            "image/png": "[encoded data removed]",
            "text/plain": [
              "<Figure size 432x360 with 1 Axes>"
            ]
          },
          "metadata": {
            "tags": [],
            "needs_background": "light"
          }
        }
      ]
    },
    {
      "cell_type": "markdown",
      "metadata": {
        "id": "2HIr3MJXy5OA"
      },
      "source": [
        "#Plot of Epoch Number Vs k1 ,k2, k3 and k4"
      ]
    },
    {
      "cell_type": "code",
      "metadata": {
        "colab": {
          "base_uri": "https://localhost:8080/",
          "height": 351
        },
        "id": "cQWt1j7sPP1H",
        "outputId": "5ac4d99f-1686-4472-9a6a-46762e7f9233"
      },
      "source": [
        "epoch = np.arange(20)\n",
        "plt.figure( figsize=(6,5))\n",
        "plt.grid()\n",
        "plt.plot(epoch,k1_new,color='blue')\n",
        "plt.plot(epoch,k2_new,color='red')\n",
        "plt.plot(epoch,k3_new,color='orange')\n",
        "plt.plot(epoch,k4_new,color='yellow')\n",
        "plt.xlabel(\"Epochs\")\n",
        "plt.ylabel(\"Loss\")\n",
        "plt.title('Plot of Epoch Number Vs k1_new ,k2_new, k3_new and k4_new',fontsize = 14)\n",
        "plt.legend(['k1_new','k2_new','k3_new','k4_new'])\n",
        "plt.show()"
      ],
      "execution_count": null,
      "outputs": [
        {
          "output_type": "display_data",
          "data": {
            "image/png": "[encoded data removed]",
            "text/plain": [
              "<Figure size 432x360 with 1 Axes>"
            ]
          },
          "metadata": {
            "tags": [],
            "needs_background": "light"
          }
        }
      ]
    }
  ]
}